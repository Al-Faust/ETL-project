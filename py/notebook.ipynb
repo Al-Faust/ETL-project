{
 "metadata": {
  "language_info": {
   "codemirror_mode": {
    "name": "ipython",
    "version": 3
   },
   "file_extension": ".py",
   "mimetype": "text/x-python",
   "name": "python",
   "nbconvert_exporter": "python",
   "pygments_lexer": "ipython3",
   "version": "3.6.10-final"
  },
  "orig_nbformat": 2,
  "kernelspec": {
   "name": "python_defaultSpec_1596292510544",
   "display_name": "Python 3.6.10 64-bit ('PythonData': conda)"
  }
 },
 "nbformat": 4,
 "nbformat_minor": 2,
 "cells": [
  {
   "cell_type": "code",
   "execution_count": 17,
   "metadata": {},
   "outputs": [],
   "source": [
    "from splinter import Browser\n",
    "from bs4 import BeautifulSoup"
   ]
  },
  {
   "cell_type": "markdown",
   "metadata": {},
   "source": [
    "user input"
   ]
  },
  {
   "cell_type": "code",
   "execution_count": 40,
   "metadata": {},
   "outputs": [
    {
     "output_type": "execute_result",
     "data": {
      "text/plain": "'fire+rune'"
     },
     "metadata": {},
     "execution_count": 40
    }
   ],
   "source": [
    "item_name = input('What item are you looking for:' )\n",
    "item_name = item_name.replace(\" \", \"+\").lower()\n",
    "item_name"
   ]
  },
  {
   "cell_type": "markdown",
   "metadata": {},
   "source": [
    "scrape"
   ]
  },
  {
   "cell_type": "code",
   "execution_count": 41,
   "metadata": {},
   "outputs": [],
   "source": [
    "executable_path = {\"executable_path\": \"chromedriver\"}\n",
    "browser = Browser(\"chrome\", **executable_path, headless=False)"
   ]
  },
  {
   "cell_type": "code",
   "execution_count": 42,
   "metadata": {},
   "outputs": [],
   "source": [
    "url = f'http://www.itemdb.biz/index.php?search={item_name}'\n",
    "browser.visit(url)\n"
   ]
  },
  {
   "cell_type": "code",
   "execution_count": 43,
   "metadata": {
    "tags": []
   },
   "outputs": [],
   "source": [
    "html = browser.html\n",
    "soup = BeautifulSoup(html, 'html.parser')\n",
    "\n",
    "table_row = soup.find_all('tbody')\n",
    "\n",
    "for th in table_row:\n",
    "    item_id = th.find('td').text\n",
    "    item_name = th.find('td').next_element.next_element.next_element.next_element.next_element\n",
    "    item_dict = {\n",
    "        'item_name':item_name,\n",
    "        'id': item_id\n",
    "    }"
   ]
  },
  {
   "cell_type": "code",
   "execution_count": 44,
   "metadata": {},
   "outputs": [],
   "source": [
    "browser.quit()"
   ]
  },
  {
   "cell_type": "markdown",
   "metadata": {},
   "source": [
    "set up DFs"
   ]
  },
  {
   "cell_type": "code",
   "execution_count": 23,
   "metadata": {},
   "outputs": [],
   "source": [
    "import requests\n",
    "import json\n",
    "import pandas as pd\n",
    "import datetime"
   ]
  },
  {
   "cell_type": "code",
   "execution_count": 45,
   "metadata": {},
   "outputs": [],
   "source": [
    "id = item_dict['id']\n",
    "gen_url = f'https://secure.runescape.com/m=itemdb_rs/api/catalogue/detail.json?item={id}'\n",
    "gen_response = requests.get(gen_url)"
   ]
  },
  {
   "cell_type": "code",
   "execution_count": 46,
   "metadata": {},
   "outputs": [
    {
     "output_type": "execute_result",
     "data": {
      "text/plain": "{'item': {'icon': 'https://secure.runescape.com/m=itemdb_rs/1595844083151_obj_sprite.gif?id=554',\n  'icon_large': 'https://secure.runescape.com/m=itemdb_rs/1595844083151_obj_big.gif?id=554',\n  'id': 554,\n  'type': 'Runes, Spells and Teleports',\n  'typeIcon': 'https://www.runescape.com/img/categories/Runes, Spells and Teleports',\n  'name': 'Fire rune',\n  'description': 'One of the four basic elemental runes. Used in Magic (13).',\n  'current': {'trend': 'neutral', 'price': 134},\n  'today': {'trend': 'neutral', 'price': 0},\n  'members': 'false',\n  'day30': {'trend': 'negative', 'change': '-14.0%'},\n  'day90': {'trend': 'positive', 'change': '+36.0%'},\n  'day180': {'trend': 'positive', 'change': '+65.0%'}}}"
     },
     "metadata": {},
     "execution_count": 46
    }
   ],
   "source": [
    "gen_json = gen_response.json()\n",
    "gen_json"
   ]
  },
  {
   "cell_type": "code",
   "execution_count": 47,
   "metadata": {},
   "outputs": [],
   "source": [
    "id = gen_json['item']['id']\n",
    "name = gen_json['item']['name']\n",
    "small_icon_url = gen_json['item']['icon']\n",
    "large_icon_url = gen_json['item']['icon_large']\n",
    "current_price = gen_json['item']['current']\n",
    "short_delta = gen_json['item']['day30']\n",
    "med_delta = gen_json['item']['day90']\n",
    "long_delta = gen_json['item']['day180']"
   ]
  },
  {
   "cell_type": "code",
   "execution_count": 48,
   "metadata": {},
   "outputs": [],
   "source": [
    "graph_url = f'http://services.runescape.com/m=itemdb_rs/api/graph/{id}.json'\n",
    "graph_response = requests.get(graph_url)\n",
    "graph_json = graph_response.json()"
   ]
  },
  {
   "cell_type": "code",
   "execution_count": 49,
   "metadata": {},
   "outputs": [],
   "source": [
    "graph_daily = graph_json['daily']\n",
    "graph_avg = graph_json['average']"
   ]
  },
  {
   "cell_type": "code",
   "execution_count": null,
   "metadata": {},
   "outputs": [],
   "source": [
    "'''datetime.datetime.fromtimestamp(\n",
    "    (1596153600000 / 1000)\n",
    ").strftime('%m/%d/%Y')'''"
   ]
  },
  {
   "cell_type": "code",
   "execution_count": 50,
   "metadata": {},
   "outputs": [],
   "source": [
    "gen_df = pd.DataFrame()\n",
    "daily_graph_df = pd.DataFrame()\n",
    "avg_graph_df = pd.DataFrame()"
   ]
  },
  {
   "cell_type": "code",
   "execution_count": 51,
   "metadata": {},
   "outputs": [],
   "source": [
    "if type(current_price['price']) == int:\n",
    "    gen_df['id'] = [id]\n",
    "    gen_df['name'] = [name]\n",
    "    gen_df['current_price'] = [current_price['price']]\n",
    "    gen_df['_30_day_change'] = [short_delta['change'].strip('+%')]\n",
    "    gen_df['_90_day_change'] = [med_delta['change'].strip('+%')]\n",
    "    gen_df['_180_day_change'] = [long_delta['change'].strip('+%')]\n",
    "else:\n",
    "    gen_df['id'] = [id]\n",
    "    gen_df['name'] = [name]\n",
    "    gen_df['current_price'] = [current_price['price'].replace(',','')]\n",
    "    gen_df['_30_day_change'] = [short_delta['change'].strip('+%')]\n",
    "    gen_df['_90_day_change'] = [med_delta['change'].strip('+%')]\n",
    "    gen_df['_180_day_change'] = [long_delta['change'].strip('+%')]"
   ]
  },
  {
   "cell_type": "code",
   "execution_count": 52,
   "metadata": {},
   "outputs": [
    {
     "output_type": "execute_result",
     "data": {
      "text/plain": "    id       name  current_price _30_day_change _90_day_change _180_day_change\n0  554  Fire rune            134          -14.0           36.0            65.0",
      "text/html": "<div>\n<style scoped>\n    .dataframe tbody tr th:only-of-type {\n        vertical-align: middle;\n    }\n\n    .dataframe tbody tr th {\n        vertical-align: top;\n    }\n\n    .dataframe thead th {\n        text-align: right;\n    }\n</style>\n<table border=\"1\" class=\"dataframe\">\n  <thead>\n    <tr style=\"text-align: right;\">\n      <th></th>\n      <th>id</th>\n      <th>name</th>\n      <th>current_price</th>\n      <th>_30_day_change</th>\n      <th>_90_day_change</th>\n      <th>_180_day_change</th>\n    </tr>\n  </thead>\n  <tbody>\n    <tr>\n      <th>0</th>\n      <td>554</td>\n      <td>Fire rune</td>\n      <td>134</td>\n      <td>-14.0</td>\n      <td>36.0</td>\n      <td>65.0</td>\n    </tr>\n  </tbody>\n</table>\n</div>"
     },
     "metadata": {},
     "execution_count": 52
    }
   ],
   "source": [
    "gen_df"
   ]
  },
  {
   "cell_type": "code",
   "execution_count": 53,
   "metadata": {},
   "outputs": [
    {
     "output_type": "execute_result",
     "data": {
      "text/plain": "dict_values([80, 79, 79, 78, 78, 79, 79, 80, 81, 81, 81, 81, 80, 79, 79, 79, 78, 78, 77, 76, 75, 74, 75, 76, 76, 76, 75, 75, 76, 78, 78, 77, 77, 76, 77, 77, 77, 77, 79, 79, 80, 79, 79, 79, 79, 80, 82, 84, 84, 83, 83, 84, 86, 87, 89, 92, 93, 91, 89, 88, 86, 85, 84, 83, 82, 82, 82, 81, 81, 81, 83, 85, 85, 85, 83, 84, 85, 85, 86, 88, 90, 91, 93, 94, 95, 94, 96, 97, 97, 98, 98, 97, 95, 94, 94, 95, 96, 97, 98, 100, 100, 102, 102, 104, 107, 110, 114, 117, 117, 119, 120, 120, 121, 126, 132, 136, 139, 138, 141, 143, 143, 144, 145, 148, 152, 155, 159, 162, 166, 168, 167, 166, 166, 167, 165, 162, 160, 159, 159, 159, 161, 163, 164, 168, 170, 165, 162, 159, 157, 157, 157, 156, 155, 156, 154, 152, 148, 145, 142, 139, 137, 135, 134, 132, 131, 128, 126, 125, 123, 121, 120, 119, 117, 118, 121, 124, 127, 131, 134, 134])"
     },
     "metadata": {},
     "execution_count": 53
    }
   ],
   "source": [
    "daily_keys = graph_daily.keys()\n",
    "daily_values = graph_daily.values()\n",
    "correct_daily_keys = []\n",
    "correct_daily_value = []\n",
    "daily_values"
   ]
  },
  {
   "cell_type": "code",
   "execution_count": 54,
   "metadata": {
    "tags": []
   },
   "outputs": [],
   "source": [
    "for key in daily_keys:\n",
    "    timestamp = datetime.datetime.fromtimestamp(( int(key) / 1000)).strftime('%m/%d/%Y')\n",
    "    correct_daily_keys.append(timestamp)\n",
    "\n",
    "for value in daily_values:\n",
    "    correct_daily_value.append(value)"
   ]
  },
  {
   "cell_type": "code",
   "execution_count": 71,
   "metadata": {},
   "outputs": [],
   "source": [
    "daily_graph_df['Date'] = correct_daily_keys\n",
    "daily_graph_df['price'] = correct_daily_value"
   ]
  },
  {
   "cell_type": "code",
   "execution_count": 72,
   "metadata": {},
   "outputs": [
    {
     "output_type": "execute_result",
     "data": {
      "text/plain": "           Date  price\n0    02/02/2020     80\n1    02/03/2020     79\n2    02/04/2020     79\n3    02/05/2020     78\n4    02/06/2020     78\n..          ...    ...\n175  07/26/2020    124\n176  07/27/2020    127\n177  07/28/2020    131\n178  07/29/2020    134\n179  07/30/2020    134\n\n[180 rows x 2 columns]",
      "text/html": "<div>\n<style scoped>\n    .dataframe tbody tr th:only-of-type {\n        vertical-align: middle;\n    }\n\n    .dataframe tbody tr th {\n        vertical-align: top;\n    }\n\n    .dataframe thead th {\n        text-align: right;\n    }\n</style>\n<table border=\"1\" class=\"dataframe\">\n  <thead>\n    <tr style=\"text-align: right;\">\n      <th></th>\n      <th>Date</th>\n      <th>price</th>\n    </tr>\n  </thead>\n  <tbody>\n    <tr>\n      <th>0</th>\n      <td>02/02/2020</td>\n      <td>80</td>\n    </tr>\n    <tr>\n      <th>1</th>\n      <td>02/03/2020</td>\n      <td>79</td>\n    </tr>\n    <tr>\n      <th>2</th>\n      <td>02/04/2020</td>\n      <td>79</td>\n    </tr>\n    <tr>\n      <th>3</th>\n      <td>02/05/2020</td>\n      <td>78</td>\n    </tr>\n    <tr>\n      <th>4</th>\n      <td>02/06/2020</td>\n      <td>78</td>\n    </tr>\n    <tr>\n      <th>...</th>\n      <td>...</td>\n      <td>...</td>\n    </tr>\n    <tr>\n      <th>175</th>\n      <td>07/26/2020</td>\n      <td>124</td>\n    </tr>\n    <tr>\n      <th>176</th>\n      <td>07/27/2020</td>\n      <td>127</td>\n    </tr>\n    <tr>\n      <th>177</th>\n      <td>07/28/2020</td>\n      <td>131</td>\n    </tr>\n    <tr>\n      <th>178</th>\n      <td>07/29/2020</td>\n      <td>134</td>\n    </tr>\n    <tr>\n      <th>179</th>\n      <td>07/30/2020</td>\n      <td>134</td>\n    </tr>\n  </tbody>\n</table>\n<p>180 rows × 2 columns</p>\n</div>"
     },
     "metadata": {},
     "execution_count": 72
    }
   ],
   "source": [
    "daily_graph_df"
   ]
  },
  {
   "cell_type": "markdown",
   "metadata": {},
   "source": [
    "connect sql server"
   ]
  },
  {
   "cell_type": "code",
   "execution_count": 35,
   "metadata": {},
   "outputs": [],
   "source": [
    "from sqlalchemy import create_engine"
   ]
  },
  {
   "cell_type": "code",
   "execution_count": 55,
   "metadata": {},
   "outputs": [],
   "source": [
    "connection_string = 'postgres:nwyfre@localhost:5432/osrs_ge_tracker_db'\n",
    "engine = create_engine(f'postgresql://{connection_string}')"
   ]
  },
  {
   "cell_type": "code",
   "execution_count": 73,
   "metadata": {},
   "outputs": [],
   "source": [
    "# Confirm tables\n",
    "gen_df.to_sql(name='temp_holding', con=engine, if_exists='replace', index=False)\n",
    "daily_graph_df.to_sql(name='price_over_time', con=engine, if_exists='replace', index=False)\n",
    "conn = engine.connect()\n",
    "trans = conn.begin()"
   ]
  },
  {
   "cell_type": "code",
   "execution_count": 74,
   "metadata": {},
   "outputs": [],
   "source": [
    "try:\n",
    "    engine.execute('delete from general_info where id in(select id from temp_holding)')\n",
    "    \n",
    "    gen_df.to_sql(name='general_info', con=engine, if_exists='append', index=False)\n",
    "\n",
    "except:\n",
    "    trans.rollback()\n",
    "    raise"
   ]
  },
  {
   "cell_type": "markdown",
   "metadata": {},
   "source": [
    "create graph"
   ]
  },
  {
   "cell_type": "code",
   "execution_count": 103,
   "metadata": {},
   "outputs": [],
   "source": [
    "import matplotlib.pyplot as plt"
   ]
  },
  {
   "cell_type": "code",
   "execution_count": 104,
   "metadata": {},
   "outputs": [
    {
     "output_type": "display_data",
     "data": {
      "text/plain": "<Figure size 432x288 with 1 Axes>",
      "image/svg+xml": "<?xml version=\"1.0\" encoding=\"utf-8\" standalone=\"no\"?>\r\n<!DOCTYPE svg PUBLIC \"-//W3C//DTD SVG 1.1//EN\"\r\n  \"http://www.w3.org/Graphics/SVG/1.1/DTD/svg11.dtd\">\r\n<!-- Created with matplotlib (https://matplotlib.org/) -->\r\n<svg height=\"246.958125pt\" version=\"1.1\" viewBox=\"0 0 388.965625 246.958125\" width=\"388.965625pt\" xmlns=\"http://www.w3.org/2000/svg\" xmlns:xlink=\"http://www.w3.org/1999/xlink\">\r\n <defs>\r\n  <style type=\"text/css\">\r\n*{stroke-linecap:butt;stroke-linejoin:round;}\r\n  </style>\r\n </defs>\r\n <g id=\"figure_1\">\r\n  <g id=\"patch_1\">\r\n   <path d=\"M -0 246.958125 \r\nL 388.965625 246.958125 \r\nL 388.965625 0 \r\nL -0 0 \r\nz\r\n\" style=\"fill:none;\"/>\r\n  </g>\r\n  <g id=\"axes_1\">\r\n   <g id=\"patch_2\">\r\n    <path d=\"M 46.965625 239.758125 \r\nL 381.765625 239.758125 \r\nL 381.765625 22.318125 \r\nL 46.965625 22.318125 \r\nz\r\n\" style=\"fill:#ffffff;\"/>\r\n   </g>\r\n   <g id=\"matplotlib.axis_1\">\r\n    <g id=\"xtick_1\"/>\r\n    <g id=\"xtick_2\"/>\r\n    <g id=\"xtick_3\"/>\r\n    <g id=\"xtick_4\"/>\r\n    <g id=\"xtick_5\"/>\r\n    <g id=\"xtick_6\"/>\r\n    <g id=\"xtick_7\"/>\r\n    <g id=\"xtick_8\"/>\r\n    <g id=\"xtick_9\"/>\r\n    <g id=\"xtick_10\"/>\r\n    <g id=\"xtick_11\"/>\r\n    <g id=\"xtick_12\"/>\r\n    <g id=\"xtick_13\"/>\r\n    <g id=\"xtick_14\"/>\r\n    <g id=\"xtick_15\"/>\r\n    <g id=\"xtick_16\"/>\r\n    <g id=\"xtick_17\"/>\r\n    <g id=\"xtick_18\"/>\r\n    <g id=\"xtick_19\"/>\r\n    <g id=\"xtick_20\"/>\r\n    <g id=\"xtick_21\"/>\r\n    <g id=\"xtick_22\"/>\r\n    <g id=\"xtick_23\"/>\r\n    <g id=\"xtick_24\"/>\r\n    <g id=\"xtick_25\"/>\r\n    <g id=\"xtick_26\"/>\r\n    <g id=\"xtick_27\"/>\r\n    <g id=\"xtick_28\"/>\r\n    <g id=\"xtick_29\"/>\r\n    <g id=\"xtick_30\"/>\r\n    <g id=\"xtick_31\"/>\r\n    <g id=\"xtick_32\"/>\r\n    <g id=\"xtick_33\"/>\r\n    <g id=\"xtick_34\"/>\r\n    <g id=\"xtick_35\"/>\r\n    <g id=\"xtick_36\"/>\r\n    <g id=\"xtick_37\"/>\r\n    <g id=\"xtick_38\"/>\r\n    <g id=\"xtick_39\"/>\r\n    <g id=\"xtick_40\"/>\r\n    <g id=\"xtick_41\"/>\r\n    <g id=\"xtick_42\"/>\r\n    <g id=\"xtick_43\"/>\r\n    <g id=\"xtick_44\"/>\r\n    <g id=\"xtick_45\"/>\r\n    <g id=\"xtick_46\"/>\r\n    <g id=\"xtick_47\"/>\r\n    <g id=\"xtick_48\"/>\r\n    <g id=\"xtick_49\"/>\r\n    <g id=\"xtick_50\"/>\r\n    <g id=\"xtick_51\"/>\r\n    <g id=\"xtick_52\"/>\r\n    <g id=\"xtick_53\"/>\r\n    <g id=\"xtick_54\"/>\r\n    <g id=\"xtick_55\"/>\r\n    <g id=\"xtick_56\"/>\r\n    <g id=\"xtick_57\"/>\r\n    <g id=\"xtick_58\"/>\r\n    <g id=\"xtick_59\"/>\r\n    <g id=\"xtick_60\"/>\r\n    <g id=\"xtick_61\"/>\r\n    <g id=\"xtick_62\"/>\r\n    <g id=\"xtick_63\"/>\r\n    <g id=\"xtick_64\"/>\r\n    <g id=\"xtick_65\"/>\r\n    <g id=\"xtick_66\"/>\r\n    <g id=\"xtick_67\"/>\r\n    <g id=\"xtick_68\"/>\r\n    <g id=\"xtick_69\"/>\r\n    <g id=\"xtick_70\"/>\r\n    <g id=\"xtick_71\"/>\r\n    <g id=\"xtick_72\"/>\r\n    <g id=\"xtick_73\"/>\r\n    <g id=\"xtick_74\"/>\r\n    <g id=\"xtick_75\"/>\r\n    <g id=\"xtick_76\"/>\r\n    <g id=\"xtick_77\"/>\r\n    <g id=\"xtick_78\"/>\r\n    <g id=\"xtick_79\"/>\r\n    <g id=\"xtick_80\"/>\r\n    <g id=\"xtick_81\"/>\r\n    <g id=\"xtick_82\"/>\r\n    <g id=\"xtick_83\"/>\r\n    <g id=\"xtick_84\"/>\r\n    <g id=\"xtick_85\"/>\r\n    <g id=\"xtick_86\"/>\r\n    <g id=\"xtick_87\"/>\r\n    <g id=\"xtick_88\"/>\r\n    <g id=\"xtick_89\"/>\r\n    <g id=\"xtick_90\"/>\r\n    <g id=\"xtick_91\"/>\r\n    <g id=\"xtick_92\"/>\r\n    <g id=\"xtick_93\"/>\r\n    <g id=\"xtick_94\"/>\r\n    <g id=\"xtick_95\"/>\r\n    <g id=\"xtick_96\"/>\r\n    <g id=\"xtick_97\"/>\r\n    <g id=\"xtick_98\"/>\r\n    <g id=\"xtick_99\"/>\r\n    <g id=\"xtick_100\"/>\r\n    <g id=\"xtick_101\"/>\r\n    <g id=\"xtick_102\"/>\r\n    <g id=\"xtick_103\"/>\r\n    <g id=\"xtick_104\"/>\r\n    <g id=\"xtick_105\"/>\r\n    <g id=\"xtick_106\"/>\r\n    <g id=\"xtick_107\"/>\r\n    <g id=\"xtick_108\"/>\r\n    <g id=\"xtick_109\"/>\r\n    <g id=\"xtick_110\"/>\r\n    <g id=\"xtick_111\"/>\r\n    <g id=\"xtick_112\"/>\r\n    <g id=\"xtick_113\"/>\r\n    <g id=\"xtick_114\"/>\r\n    <g id=\"xtick_115\"/>\r\n    <g id=\"xtick_116\"/>\r\n    <g id=\"xtick_117\"/>\r\n    <g id=\"xtick_118\"/>\r\n    <g id=\"xtick_119\"/>\r\n    <g id=\"xtick_120\"/>\r\n    <g id=\"xtick_121\"/>\r\n    <g id=\"xtick_122\"/>\r\n    <g id=\"xtick_123\"/>\r\n    <g id=\"xtick_124\"/>\r\n    <g id=\"xtick_125\"/>\r\n    <g id=\"xtick_126\"/>\r\n    <g id=\"xtick_127\"/>\r\n    <g id=\"xtick_128\"/>\r\n    <g id=\"xtick_129\"/>\r\n    <g id=\"xtick_130\"/>\r\n    <g id=\"xtick_131\"/>\r\n    <g id=\"xtick_132\"/>\r\n    <g id=\"xtick_133\"/>\r\n    <g id=\"xtick_134\"/>\r\n    <g id=\"xtick_135\"/>\r\n    <g id=\"xtick_136\"/>\r\n    <g id=\"xtick_137\"/>\r\n    <g id=\"xtick_138\"/>\r\n    <g id=\"xtick_139\"/>\r\n    <g id=\"xtick_140\"/>\r\n    <g id=\"xtick_141\"/>\r\n    <g id=\"xtick_142\"/>\r\n    <g id=\"xtick_143\"/>\r\n    <g id=\"xtick_144\"/>\r\n    <g id=\"xtick_145\"/>\r\n    <g id=\"xtick_146\"/>\r\n    <g id=\"xtick_147\"/>\r\n    <g id=\"xtick_148\"/>\r\n    <g id=\"xtick_149\"/>\r\n    <g id=\"xtick_150\"/>\r\n    <g id=\"xtick_151\"/>\r\n    <g id=\"xtick_152\"/>\r\n    <g id=\"xtick_153\"/>\r\n    <g id=\"xtick_154\"/>\r\n    <g id=\"xtick_155\"/>\r\n    <g id=\"xtick_156\"/>\r\n    <g id=\"xtick_157\"/>\r\n    <g id=\"xtick_158\"/>\r\n    <g id=\"xtick_159\"/>\r\n    <g id=\"xtick_160\"/>\r\n    <g id=\"xtick_161\"/>\r\n    <g id=\"xtick_162\"/>\r\n    <g id=\"xtick_163\"/>\r\n    <g id=\"xtick_164\"/>\r\n    <g id=\"xtick_165\"/>\r\n    <g id=\"xtick_166\"/>\r\n    <g id=\"xtick_167\"/>\r\n    <g id=\"xtick_168\"/>\r\n    <g id=\"xtick_169\"/>\r\n    <g id=\"xtick_170\"/>\r\n    <g id=\"xtick_171\"/>\r\n    <g id=\"xtick_172\"/>\r\n    <g id=\"xtick_173\"/>\r\n    <g id=\"xtick_174\"/>\r\n    <g id=\"xtick_175\"/>\r\n    <g id=\"xtick_176\"/>\r\n    <g id=\"xtick_177\"/>\r\n    <g id=\"xtick_178\"/>\r\n    <g id=\"xtick_179\"/>\r\n    <g id=\"xtick_180\"/>\r\n   </g>\r\n   <g id=\"matplotlib.axis_2\">\r\n    <g id=\"ytick_1\">\r\n     <g id=\"line2d_1\">\r\n      <path clip-path=\"url(#pb670d804f7)\" d=\"M 46.965625 217.519943 \r\nL 381.765625 217.519943 \r\n\" style=\"fill:none;stroke:#b0b0b0;stroke-linecap:square;stroke-width:0.8;\"/>\r\n     </g>\r\n     <g id=\"line2d_2\">\r\n      <defs>\r\n       <path d=\"M 0 0 \r\nL -3.5 0 \r\n\" id=\"mf723687255\" style=\"stroke:#000000;stroke-width:0.8;\"/>\r\n      </defs>\r\n      <g>\r\n       <use style=\"stroke:#000000;stroke-width:0.8;\" x=\"46.965625\" xlink:href=\"#mf723687255\" y=\"217.519943\"/>\r\n      </g>\r\n     </g>\r\n     <g id=\"text_1\">\r\n      <!-- 80 -->\r\n      <defs>\r\n       <path d=\"M 31.78125 34.625 \r\nQ 24.75 34.625 20.71875 30.859375 \r\nQ 16.703125 27.09375 16.703125 20.515625 \r\nQ 16.703125 13.921875 20.71875 10.15625 \r\nQ 24.75 6.390625 31.78125 6.390625 \r\nQ 38.8125 6.390625 42.859375 10.171875 \r\nQ 46.921875 13.96875 46.921875 20.515625 \r\nQ 46.921875 27.09375 42.890625 30.859375 \r\nQ 38.875 34.625 31.78125 34.625 \r\nz\r\nM 21.921875 38.8125 \r\nQ 15.578125 40.375 12.03125 44.71875 \r\nQ 8.5 49.078125 8.5 55.328125 \r\nQ 8.5 64.0625 14.71875 69.140625 \r\nQ 20.953125 74.21875 31.78125 74.21875 \r\nQ 42.671875 74.21875 48.875 69.140625 \r\nQ 55.078125 64.0625 55.078125 55.328125 \r\nQ 55.078125 49.078125 51.53125 44.71875 \r\nQ 48 40.375 41.703125 38.8125 \r\nQ 48.828125 37.15625 52.796875 32.3125 \r\nQ 56.78125 27.484375 56.78125 20.515625 \r\nQ 56.78125 9.90625 50.3125 4.234375 \r\nQ 43.84375 -1.421875 31.78125 -1.421875 \r\nQ 19.734375 -1.421875 13.25 4.234375 \r\nQ 6.78125 9.90625 6.78125 20.515625 \r\nQ 6.78125 27.484375 10.78125 32.3125 \r\nQ 14.796875 37.15625 21.921875 38.8125 \r\nz\r\nM 18.3125 54.390625 \r\nQ 18.3125 48.734375 21.84375 45.5625 \r\nQ 25.390625 42.390625 31.78125 42.390625 \r\nQ 38.140625 42.390625 41.71875 45.5625 \r\nQ 45.3125 48.734375 45.3125 54.390625 \r\nQ 45.3125 60.0625 41.71875 63.234375 \r\nQ 38.140625 66.40625 31.78125 66.40625 \r\nQ 25.390625 66.40625 21.84375 63.234375 \r\nQ 18.3125 60.0625 18.3125 54.390625 \r\nz\r\n\" id=\"DejaVuSans-56\"/>\r\n       <path d=\"M 31.78125 66.40625 \r\nQ 24.171875 66.40625 20.328125 58.90625 \r\nQ 16.5 51.421875 16.5 36.375 \r\nQ 16.5 21.390625 20.328125 13.890625 \r\nQ 24.171875 6.390625 31.78125 6.390625 \r\nQ 39.453125 6.390625 43.28125 13.890625 \r\nQ 47.125 21.390625 47.125 36.375 \r\nQ 47.125 51.421875 43.28125 58.90625 \r\nQ 39.453125 66.40625 31.78125 66.40625 \r\nz\r\nM 31.78125 74.21875 \r\nQ 44.046875 74.21875 50.515625 64.515625 \r\nQ 56.984375 54.828125 56.984375 36.375 \r\nQ 56.984375 17.96875 50.515625 8.265625 \r\nQ 44.046875 -1.421875 31.78125 -1.421875 \r\nQ 19.53125 -1.421875 13.0625 8.265625 \r\nQ 6.59375 17.96875 6.59375 36.375 \r\nQ 6.59375 54.828125 13.0625 64.515625 \r\nQ 19.53125 74.21875 31.78125 74.21875 \r\nz\r\n\" id=\"DejaVuSans-48\"/>\r\n      </defs>\r\n      <g transform=\"translate(27.240625 221.319162)scale(0.1 -0.1)\">\r\n       <use xlink:href=\"#DejaVuSans-56\"/>\r\n       <use x=\"63.623047\" xlink:href=\"#DejaVuSans-48\"/>\r\n      </g>\r\n     </g>\r\n    </g>\r\n    <g id=\"ytick_2\">\r\n     <g id=\"line2d_3\">\r\n      <path clip-path=\"url(#pb670d804f7)\" d=\"M 46.965625 176.338125 \r\nL 381.765625 176.338125 \r\n\" style=\"fill:none;stroke:#b0b0b0;stroke-linecap:square;stroke-width:0.8;\"/>\r\n     </g>\r\n     <g id=\"line2d_4\">\r\n      <g>\r\n       <use style=\"stroke:#000000;stroke-width:0.8;\" x=\"46.965625\" xlink:href=\"#mf723687255\" y=\"176.338125\"/>\r\n      </g>\r\n     </g>\r\n     <g id=\"text_2\">\r\n      <!-- 100 -->\r\n      <defs>\r\n       <path d=\"M 12.40625 8.296875 \r\nL 28.515625 8.296875 \r\nL 28.515625 63.921875 \r\nL 10.984375 60.40625 \r\nL 10.984375 69.390625 \r\nL 28.421875 72.90625 \r\nL 38.28125 72.90625 \r\nL 38.28125 8.296875 \r\nL 54.390625 8.296875 \r\nL 54.390625 0 \r\nL 12.40625 0 \r\nz\r\n\" id=\"DejaVuSans-49\"/>\r\n      </defs>\r\n      <g transform=\"translate(20.878125 180.137344)scale(0.1 -0.1)\">\r\n       <use xlink:href=\"#DejaVuSans-49\"/>\r\n       <use x=\"63.623047\" xlink:href=\"#DejaVuSans-48\"/>\r\n       <use x=\"127.246094\" xlink:href=\"#DejaVuSans-48\"/>\r\n      </g>\r\n     </g>\r\n    </g>\r\n    <g id=\"ytick_3\">\r\n     <g id=\"line2d_5\">\r\n      <path clip-path=\"url(#pb670d804f7)\" d=\"M 46.965625 135.156307 \r\nL 381.765625 135.156307 \r\n\" style=\"fill:none;stroke:#b0b0b0;stroke-linecap:square;stroke-width:0.8;\"/>\r\n     </g>\r\n     <g id=\"line2d_6\">\r\n      <g>\r\n       <use style=\"stroke:#000000;stroke-width:0.8;\" x=\"46.965625\" xlink:href=\"#mf723687255\" y=\"135.156307\"/>\r\n      </g>\r\n     </g>\r\n     <g id=\"text_3\">\r\n      <!-- 120 -->\r\n      <defs>\r\n       <path d=\"M 19.1875 8.296875 \r\nL 53.609375 8.296875 \r\nL 53.609375 0 \r\nL 7.328125 0 \r\nL 7.328125 8.296875 \r\nQ 12.9375 14.109375 22.625 23.890625 \r\nQ 32.328125 33.6875 34.8125 36.53125 \r\nQ 39.546875 41.84375 41.421875 45.53125 \r\nQ 43.3125 49.21875 43.3125 52.78125 \r\nQ 43.3125 58.59375 39.234375 62.25 \r\nQ 35.15625 65.921875 28.609375 65.921875 \r\nQ 23.96875 65.921875 18.8125 64.3125 \r\nQ 13.671875 62.703125 7.8125 59.421875 \r\nL 7.8125 69.390625 \r\nQ 13.765625 71.78125 18.9375 73 \r\nQ 24.125 74.21875 28.421875 74.21875 \r\nQ 39.75 74.21875 46.484375 68.546875 \r\nQ 53.21875 62.890625 53.21875 53.421875 \r\nQ 53.21875 48.921875 51.53125 44.890625 \r\nQ 49.859375 40.875 45.40625 35.40625 \r\nQ 44.1875 33.984375 37.640625 27.21875 \r\nQ 31.109375 20.453125 19.1875 8.296875 \r\nz\r\n\" id=\"DejaVuSans-50\"/>\r\n      </defs>\r\n      <g transform=\"translate(20.878125 138.955526)scale(0.1 -0.1)\">\r\n       <use xlink:href=\"#DejaVuSans-49\"/>\r\n       <use x=\"63.623047\" xlink:href=\"#DejaVuSans-50\"/>\r\n       <use x=\"127.246094\" xlink:href=\"#DejaVuSans-48\"/>\r\n      </g>\r\n     </g>\r\n    </g>\r\n    <g id=\"ytick_4\">\r\n     <g id=\"line2d_7\">\r\n      <path clip-path=\"url(#pb670d804f7)\" d=\"M 46.965625 93.974489 \r\nL 381.765625 93.974489 \r\n\" style=\"fill:none;stroke:#b0b0b0;stroke-linecap:square;stroke-width:0.8;\"/>\r\n     </g>\r\n     <g id=\"line2d_8\">\r\n      <g>\r\n       <use style=\"stroke:#000000;stroke-width:0.8;\" x=\"46.965625\" xlink:href=\"#mf723687255\" y=\"93.974489\"/>\r\n      </g>\r\n     </g>\r\n     <g id=\"text_4\">\r\n      <!-- 140 -->\r\n      <defs>\r\n       <path d=\"M 37.796875 64.3125 \r\nL 12.890625 25.390625 \r\nL 37.796875 25.390625 \r\nz\r\nM 35.203125 72.90625 \r\nL 47.609375 72.90625 \r\nL 47.609375 25.390625 \r\nL 58.015625 25.390625 \r\nL 58.015625 17.1875 \r\nL 47.609375 17.1875 \r\nL 47.609375 0 \r\nL 37.796875 0 \r\nL 37.796875 17.1875 \r\nL 4.890625 17.1875 \r\nL 4.890625 26.703125 \r\nz\r\n\" id=\"DejaVuSans-52\"/>\r\n      </defs>\r\n      <g transform=\"translate(20.878125 97.773707)scale(0.1 -0.1)\">\r\n       <use xlink:href=\"#DejaVuSans-49\"/>\r\n       <use x=\"63.623047\" xlink:href=\"#DejaVuSans-52\"/>\r\n       <use x=\"127.246094\" xlink:href=\"#DejaVuSans-48\"/>\r\n      </g>\r\n     </g>\r\n    </g>\r\n    <g id=\"ytick_5\">\r\n     <g id=\"line2d_9\">\r\n      <path clip-path=\"url(#pb670d804f7)\" d=\"M 46.965625 52.79267 \r\nL 381.765625 52.79267 \r\n\" style=\"fill:none;stroke:#b0b0b0;stroke-linecap:square;stroke-width:0.8;\"/>\r\n     </g>\r\n     <g id=\"line2d_10\">\r\n      <g>\r\n       <use style=\"stroke:#000000;stroke-width:0.8;\" x=\"46.965625\" xlink:href=\"#mf723687255\" y=\"52.79267\"/>\r\n      </g>\r\n     </g>\r\n     <g id=\"text_5\">\r\n      <!-- 160 -->\r\n      <defs>\r\n       <path d=\"M 33.015625 40.375 \r\nQ 26.375 40.375 22.484375 35.828125 \r\nQ 18.609375 31.296875 18.609375 23.390625 \r\nQ 18.609375 15.53125 22.484375 10.953125 \r\nQ 26.375 6.390625 33.015625 6.390625 \r\nQ 39.65625 6.390625 43.53125 10.953125 \r\nQ 47.40625 15.53125 47.40625 23.390625 \r\nQ 47.40625 31.296875 43.53125 35.828125 \r\nQ 39.65625 40.375 33.015625 40.375 \r\nz\r\nM 52.59375 71.296875 \r\nL 52.59375 62.3125 \r\nQ 48.875 64.0625 45.09375 64.984375 \r\nQ 41.3125 65.921875 37.59375 65.921875 \r\nQ 27.828125 65.921875 22.671875 59.328125 \r\nQ 17.53125 52.734375 16.796875 39.40625 \r\nQ 19.671875 43.65625 24.015625 45.921875 \r\nQ 28.375 48.1875 33.59375 48.1875 \r\nQ 44.578125 48.1875 50.953125 41.515625 \r\nQ 57.328125 34.859375 57.328125 23.390625 \r\nQ 57.328125 12.15625 50.6875 5.359375 \r\nQ 44.046875 -1.421875 33.015625 -1.421875 \r\nQ 20.359375 -1.421875 13.671875 8.265625 \r\nQ 6.984375 17.96875 6.984375 36.375 \r\nQ 6.984375 53.65625 15.1875 63.9375 \r\nQ 23.390625 74.21875 37.203125 74.21875 \r\nQ 40.921875 74.21875 44.703125 73.484375 \r\nQ 48.484375 72.75 52.59375 71.296875 \r\nz\r\n\" id=\"DejaVuSans-54\"/>\r\n      </defs>\r\n      <g transform=\"translate(20.878125 56.591889)scale(0.1 -0.1)\">\r\n       <use xlink:href=\"#DejaVuSans-49\"/>\r\n       <use x=\"63.623047\" xlink:href=\"#DejaVuSans-54\"/>\r\n       <use x=\"127.246094\" xlink:href=\"#DejaVuSans-48\"/>\r\n      </g>\r\n     </g>\r\n    </g>\r\n    <g id=\"text_6\">\r\n     <!-- GP -->\r\n     <defs>\r\n      <path d=\"M 59.515625 10.40625 \r\nL 59.515625 29.984375 \r\nL 43.40625 29.984375 \r\nL 43.40625 38.09375 \r\nL 69.28125 38.09375 \r\nL 69.28125 6.78125 \r\nQ 63.578125 2.734375 56.6875 0.65625 \r\nQ 49.8125 -1.421875 42 -1.421875 \r\nQ 24.90625 -1.421875 15.25 8.5625 \r\nQ 5.609375 18.5625 5.609375 36.375 \r\nQ 5.609375 54.25 15.25 64.234375 \r\nQ 24.90625 74.21875 42 74.21875 \r\nQ 49.125 74.21875 55.546875 72.453125 \r\nQ 61.96875 70.703125 67.390625 67.28125 \r\nL 67.390625 56.78125 \r\nQ 61.921875 61.421875 55.765625 63.765625 \r\nQ 49.609375 66.109375 42.828125 66.109375 \r\nQ 29.4375 66.109375 22.71875 58.640625 \r\nQ 16.015625 51.171875 16.015625 36.375 \r\nQ 16.015625 21.625 22.71875 14.15625 \r\nQ 29.4375 6.6875 42.828125 6.6875 \r\nQ 48.046875 6.6875 52.140625 7.59375 \r\nQ 56.25 8.5 59.515625 10.40625 \r\nz\r\n\" id=\"DejaVuSans-71\"/>\r\n      <path d=\"M 19.671875 64.796875 \r\nL 19.671875 37.40625 \r\nL 32.078125 37.40625 \r\nQ 38.96875 37.40625 42.71875 40.96875 \r\nQ 46.484375 44.53125 46.484375 51.125 \r\nQ 46.484375 57.671875 42.71875 61.234375 \r\nQ 38.96875 64.796875 32.078125 64.796875 \r\nz\r\nM 9.8125 72.90625 \r\nL 32.078125 72.90625 \r\nQ 44.34375 72.90625 50.609375 67.359375 \r\nQ 56.890625 61.8125 56.890625 51.125 \r\nQ 56.890625 40.328125 50.609375 34.8125 \r\nQ 44.34375 29.296875 32.078125 29.296875 \r\nL 19.671875 29.296875 \r\nL 19.671875 0 \r\nL 9.8125 0 \r\nz\r\n\" id=\"DejaVuSans-80\"/>\r\n     </defs>\r\n     <g transform=\"translate(14.798438 137.927188)rotate(-90)scale(0.1 -0.1)\">\r\n      <use xlink:href=\"#DejaVuSans-71\"/>\r\n      <use x=\"77.490234\" xlink:href=\"#DejaVuSans-80\"/>\r\n     </g>\r\n    </g>\r\n   </g>\r\n   <g id=\"line2d_11\">\r\n    <path clip-path=\"url(#pb670d804f7)\" d=\"M 62.183807 217.519943 \r\nL 63.884162 219.579034 \r\nL 65.584518 219.579034 \r\nL 67.284873 221.638125 \r\nL 68.985229 221.638125 \r\nL 70.685584 219.579034 \r\nL 72.38594 219.579034 \r\nL 75.786651 215.460852 \r\nL 80.887717 215.460852 \r\nL 84.288428 219.579034 \r\nL 87.689139 219.579034 \r\nL 89.389495 221.638125 \r\nL 91.08985 221.638125 \r\nL 97.891273 229.874489 \r\nL 101.291984 225.756307 \r\nL 104.692695 225.756307 \r\nL 106.39305 227.815398 \r\nL 108.093406 227.815398 \r\nL 109.793761 225.756307 \r\nL 111.494117 221.638125 \r\nL 113.194472 221.638125 \r\nL 114.894828 223.697216 \r\nL 116.595183 223.697216 \r\nL 118.295539 225.756307 \r\nL 119.995894 223.697216 \r\nL 125.096961 223.697216 \r\nL 126.797316 219.579034 \r\nL 128.497672 219.579034 \r\nL 130.198027 217.519943 \r\nL 131.898383 219.579034 \r\nL 136.999449 219.579034 \r\nL 138.699805 217.519943 \r\nL 142.100516 209.28358 \r\nL 143.800871 209.28358 \r\nL 145.501227 211.34267 \r\nL 147.201582 211.34267 \r\nL 148.901938 209.28358 \r\nL 150.602293 205.165398 \r\nL 152.302649 203.106307 \r\nL 154.003004 198.988125 \r\nL 155.70336 192.810852 \r\nL 157.403715 190.751761 \r\nL 160.804426 198.988125 \r\nL 162.504782 201.047216 \r\nL 164.205137 205.165398 \r\nL 171.006559 213.401761 \r\nL 174.407271 213.401761 \r\nL 176.107626 215.460852 \r\nL 179.508337 215.460852 \r\nL 182.909048 207.224489 \r\nL 186.309759 207.224489 \r\nL 188.010115 211.34267 \r\nL 191.410826 207.224489 \r\nL 193.111181 207.224489 \r\nL 194.811537 205.165398 \r\nL 198.212248 196.929034 \r\nL 199.912603 194.869943 \r\nL 201.612959 190.751761 \r\nL 205.01367 186.63358 \r\nL 206.714025 188.69267 \r\nL 208.414381 184.574489 \r\nL 210.114736 182.515398 \r\nL 211.815092 182.515398 \r\nL 213.515447 180.456307 \r\nL 215.215803 180.456307 \r\nL 216.916158 182.515398 \r\nL 218.616514 186.63358 \r\nL 220.316869 188.69267 \r\nL 222.017225 188.69267 \r\nL 228.818647 180.456307 \r\nL 230.519002 176.338125 \r\nL 232.219358 176.338125 \r\nL 233.919713 172.219943 \r\nL 235.620069 172.219943 \r\nL 237.320424 168.101761 \r\nL 240.721135 155.747216 \r\nL 242.421491 147.510852 \r\nL 244.121846 141.33358 \r\nL 245.822202 141.33358 \r\nL 247.522557 137.215398 \r\nL 249.222913 135.156307 \r\nL 250.923268 135.156307 \r\nL 252.623624 133.097216 \r\nL 254.323979 122.801761 \r\nL 256.024335 110.447216 \r\nL 257.724691 102.210852 \r\nL 259.425046 96.03358 \r\nL 261.125402 98.09267 \r\nL 262.825757 91.915398 \r\nL 264.526113 87.797216 \r\nL 266.226468 87.797216 \r\nL 269.627179 83.679034 \r\nL 271.327535 77.501761 \r\nL 273.02789 69.265398 \r\nL 274.728246 63.088125 \r\nL 276.428601 54.851761 \r\nL 278.128957 48.674489 \r\nL 279.829312 40.438125 \r\nL 281.529668 36.319943 \r\nL 284.930379 40.438125 \r\nL 286.630734 40.438125 \r\nL 288.33109 38.379034 \r\nL 290.031445 42.497216 \r\nL 291.731801 48.674489 \r\nL 293.432156 52.79267 \r\nL 295.132512 54.851761 \r\nL 298.533223 54.851761 \r\nL 301.933934 46.615398 \r\nL 303.634289 44.556307 \r\nL 305.334645 36.319943 \r\nL 307.035 32.201761 \r\nL 308.735356 42.497216 \r\nL 312.136067 54.851761 \r\nL 313.836422 58.969943 \r\nL 317.237133 58.969943 \r\nL 320.637844 63.088125 \r\nL 322.3382 61.029034 \r\nL 325.738911 69.265398 \r\nL 327.439266 77.501761 \r\nL 332.540333 96.03358 \r\nL 335.941044 104.269943 \r\nL 337.6414 106.329034 \r\nL 339.341755 110.447216 \r\nL 341.042111 112.506307 \r\nL 342.742466 118.68358 \r\nL 344.442822 122.801761 \r\nL 346.143177 124.860852 \r\nL 349.543888 133.097216 \r\nL 352.944599 137.215398 \r\nL 354.644955 141.33358 \r\nL 356.34531 139.274489 \r\nL 361.446377 120.74267 \r\nL 363.146732 112.506307 \r\nL 364.847088 106.329034 \r\nL 366.547443 106.329034 \r\nL 366.547443 106.329034 \r\n\" style=\"fill:none;stroke:#1f77b4;stroke-linecap:square;stroke-width:1.5;\"/>\r\n   </g>\r\n   <g id=\"patch_3\">\r\n    <path d=\"M 46.965625 239.758125 \r\nL 46.965625 22.318125 \r\n\" style=\"fill:none;stroke:#000000;stroke-linecap:square;stroke-linejoin:miter;stroke-width:0.8;\"/>\r\n   </g>\r\n   <g id=\"patch_4\">\r\n    <path d=\"M 381.765625 239.758125 \r\nL 381.765625 22.318125 \r\n\" style=\"fill:none;stroke:#000000;stroke-linecap:square;stroke-linejoin:miter;stroke-width:0.8;\"/>\r\n   </g>\r\n   <g id=\"patch_5\">\r\n    <path d=\"M 46.965625 239.758125 \r\nL 381.765625 239.758125 \r\n\" style=\"fill:none;stroke:#000000;stroke-linecap:square;stroke-linejoin:miter;stroke-width:0.8;\"/>\r\n   </g>\r\n   <g id=\"patch_6\">\r\n    <path d=\"M 46.965625 22.318125 \r\nL 381.765625 22.318125 \r\n\" style=\"fill:none;stroke:#000000;stroke-linecap:square;stroke-linejoin:miter;stroke-width:0.8;\"/>\r\n   </g>\r\n   <g id=\"text_7\">\r\n    <!-- Fire rune value over time -->\r\n    <defs>\r\n     <path d=\"M 9.8125 72.90625 \r\nL 51.703125 72.90625 \r\nL 51.703125 64.59375 \r\nL 19.671875 64.59375 \r\nL 19.671875 43.109375 \r\nL 48.578125 43.109375 \r\nL 48.578125 34.8125 \r\nL 19.671875 34.8125 \r\nL 19.671875 0 \r\nL 9.8125 0 \r\nz\r\n\" id=\"DejaVuSans-70\"/>\r\n     <path d=\"M 9.421875 54.6875 \r\nL 18.40625 54.6875 \r\nL 18.40625 0 \r\nL 9.421875 0 \r\nz\r\nM 9.421875 75.984375 \r\nL 18.40625 75.984375 \r\nL 18.40625 64.59375 \r\nL 9.421875 64.59375 \r\nz\r\n\" id=\"DejaVuSans-105\"/>\r\n     <path d=\"M 41.109375 46.296875 \r\nQ 39.59375 47.171875 37.8125 47.578125 \r\nQ 36.03125 48 33.890625 48 \r\nQ 26.265625 48 22.1875 43.046875 \r\nQ 18.109375 38.09375 18.109375 28.8125 \r\nL 18.109375 0 \r\nL 9.078125 0 \r\nL 9.078125 54.6875 \r\nL 18.109375 54.6875 \r\nL 18.109375 46.1875 \r\nQ 20.953125 51.171875 25.484375 53.578125 \r\nQ 30.03125 56 36.53125 56 \r\nQ 37.453125 56 38.578125 55.875 \r\nQ 39.703125 55.765625 41.0625 55.515625 \r\nz\r\n\" id=\"DejaVuSans-114\"/>\r\n     <path d=\"M 56.203125 29.59375 \r\nL 56.203125 25.203125 \r\nL 14.890625 25.203125 \r\nQ 15.484375 15.921875 20.484375 11.0625 \r\nQ 25.484375 6.203125 34.421875 6.203125 \r\nQ 39.59375 6.203125 44.453125 7.46875 \r\nQ 49.3125 8.734375 54.109375 11.28125 \r\nL 54.109375 2.78125 \r\nQ 49.265625 0.734375 44.1875 -0.34375 \r\nQ 39.109375 -1.421875 33.890625 -1.421875 \r\nQ 20.796875 -1.421875 13.15625 6.1875 \r\nQ 5.515625 13.8125 5.515625 26.8125 \r\nQ 5.515625 40.234375 12.765625 48.109375 \r\nQ 20.015625 56 32.328125 56 \r\nQ 43.359375 56 49.78125 48.890625 \r\nQ 56.203125 41.796875 56.203125 29.59375 \r\nz\r\nM 47.21875 32.234375 \r\nQ 47.125 39.59375 43.09375 43.984375 \r\nQ 39.0625 48.390625 32.421875 48.390625 \r\nQ 24.90625 48.390625 20.390625 44.140625 \r\nQ 15.875 39.890625 15.1875 32.171875 \r\nz\r\n\" id=\"DejaVuSans-101\"/>\r\n     <path id=\"DejaVuSans-32\"/>\r\n     <path d=\"M 8.5 21.578125 \r\nL 8.5 54.6875 \r\nL 17.484375 54.6875 \r\nL 17.484375 21.921875 \r\nQ 17.484375 14.15625 20.5 10.265625 \r\nQ 23.53125 6.390625 29.59375 6.390625 \r\nQ 36.859375 6.390625 41.078125 11.03125 \r\nQ 45.3125 15.671875 45.3125 23.6875 \r\nL 45.3125 54.6875 \r\nL 54.296875 54.6875 \r\nL 54.296875 0 \r\nL 45.3125 0 \r\nL 45.3125 8.40625 \r\nQ 42.046875 3.421875 37.71875 1 \r\nQ 33.40625 -1.421875 27.6875 -1.421875 \r\nQ 18.265625 -1.421875 13.375 4.4375 \r\nQ 8.5 10.296875 8.5 21.578125 \r\nz\r\nM 31.109375 56 \r\nz\r\n\" id=\"DejaVuSans-117\"/>\r\n     <path d=\"M 54.890625 33.015625 \r\nL 54.890625 0 \r\nL 45.90625 0 \r\nL 45.90625 32.71875 \r\nQ 45.90625 40.484375 42.875 44.328125 \r\nQ 39.84375 48.1875 33.796875 48.1875 \r\nQ 26.515625 48.1875 22.3125 43.546875 \r\nQ 18.109375 38.921875 18.109375 30.90625 \r\nL 18.109375 0 \r\nL 9.078125 0 \r\nL 9.078125 54.6875 \r\nL 18.109375 54.6875 \r\nL 18.109375 46.1875 \r\nQ 21.34375 51.125 25.703125 53.5625 \r\nQ 30.078125 56 35.796875 56 \r\nQ 45.21875 56 50.046875 50.171875 \r\nQ 54.890625 44.34375 54.890625 33.015625 \r\nz\r\n\" id=\"DejaVuSans-110\"/>\r\n     <path d=\"M 2.984375 54.6875 \r\nL 12.5 54.6875 \r\nL 29.59375 8.796875 \r\nL 46.6875 54.6875 \r\nL 56.203125 54.6875 \r\nL 35.6875 0 \r\nL 23.484375 0 \r\nz\r\n\" id=\"DejaVuSans-118\"/>\r\n     <path d=\"M 34.28125 27.484375 \r\nQ 23.390625 27.484375 19.1875 25 \r\nQ 14.984375 22.515625 14.984375 16.5 \r\nQ 14.984375 11.71875 18.140625 8.90625 \r\nQ 21.296875 6.109375 26.703125 6.109375 \r\nQ 34.1875 6.109375 38.703125 11.40625 \r\nQ 43.21875 16.703125 43.21875 25.484375 \r\nL 43.21875 27.484375 \r\nz\r\nM 52.203125 31.203125 \r\nL 52.203125 0 \r\nL 43.21875 0 \r\nL 43.21875 8.296875 \r\nQ 40.140625 3.328125 35.546875 0.953125 \r\nQ 30.953125 -1.421875 24.3125 -1.421875 \r\nQ 15.921875 -1.421875 10.953125 3.296875 \r\nQ 6 8.015625 6 15.921875 \r\nQ 6 25.140625 12.171875 29.828125 \r\nQ 18.359375 34.515625 30.609375 34.515625 \r\nL 43.21875 34.515625 \r\nL 43.21875 35.40625 \r\nQ 43.21875 41.609375 39.140625 45 \r\nQ 35.0625 48.390625 27.6875 48.390625 \r\nQ 23 48.390625 18.546875 47.265625 \r\nQ 14.109375 46.140625 10.015625 43.890625 \r\nL 10.015625 52.203125 \r\nQ 14.9375 54.109375 19.578125 55.046875 \r\nQ 24.21875 56 28.609375 56 \r\nQ 40.484375 56 46.34375 49.84375 \r\nQ 52.203125 43.703125 52.203125 31.203125 \r\nz\r\n\" id=\"DejaVuSans-97\"/>\r\n     <path d=\"M 9.421875 75.984375 \r\nL 18.40625 75.984375 \r\nL 18.40625 0 \r\nL 9.421875 0 \r\nz\r\n\" id=\"DejaVuSans-108\"/>\r\n     <path d=\"M 30.609375 48.390625 \r\nQ 23.390625 48.390625 19.1875 42.75 \r\nQ 14.984375 37.109375 14.984375 27.296875 \r\nQ 14.984375 17.484375 19.15625 11.84375 \r\nQ 23.34375 6.203125 30.609375 6.203125 \r\nQ 37.796875 6.203125 41.984375 11.859375 \r\nQ 46.1875 17.53125 46.1875 27.296875 \r\nQ 46.1875 37.015625 41.984375 42.703125 \r\nQ 37.796875 48.390625 30.609375 48.390625 \r\nz\r\nM 30.609375 56 \r\nQ 42.328125 56 49.015625 48.375 \r\nQ 55.71875 40.765625 55.71875 27.296875 \r\nQ 55.71875 13.875 49.015625 6.21875 \r\nQ 42.328125 -1.421875 30.609375 -1.421875 \r\nQ 18.84375 -1.421875 12.171875 6.21875 \r\nQ 5.515625 13.875 5.515625 27.296875 \r\nQ 5.515625 40.765625 12.171875 48.375 \r\nQ 18.84375 56 30.609375 56 \r\nz\r\n\" id=\"DejaVuSans-111\"/>\r\n     <path d=\"M 18.3125 70.21875 \r\nL 18.3125 54.6875 \r\nL 36.8125 54.6875 \r\nL 36.8125 47.703125 \r\nL 18.3125 47.703125 \r\nL 18.3125 18.015625 \r\nQ 18.3125 11.328125 20.140625 9.421875 \r\nQ 21.96875 7.515625 27.59375 7.515625 \r\nL 36.8125 7.515625 \r\nL 36.8125 0 \r\nL 27.59375 0 \r\nQ 17.1875 0 13.234375 3.875 \r\nQ 9.28125 7.765625 9.28125 18.015625 \r\nL 9.28125 47.703125 \r\nL 2.6875 47.703125 \r\nL 2.6875 54.6875 \r\nL 9.28125 54.6875 \r\nL 9.28125 70.21875 \r\nz\r\n\" id=\"DejaVuSans-116\"/>\r\n     <path d=\"M 52 44.1875 \r\nQ 55.375 50.25 60.0625 53.125 \r\nQ 64.75 56 71.09375 56 \r\nQ 79.640625 56 84.28125 50.015625 \r\nQ 88.921875 44.046875 88.921875 33.015625 \r\nL 88.921875 0 \r\nL 79.890625 0 \r\nL 79.890625 32.71875 \r\nQ 79.890625 40.578125 77.09375 44.375 \r\nQ 74.3125 48.1875 68.609375 48.1875 \r\nQ 61.625 48.1875 57.5625 43.546875 \r\nQ 53.515625 38.921875 53.515625 30.90625 \r\nL 53.515625 0 \r\nL 44.484375 0 \r\nL 44.484375 32.71875 \r\nQ 44.484375 40.625 41.703125 44.40625 \r\nQ 38.921875 48.1875 33.109375 48.1875 \r\nQ 26.21875 48.1875 22.15625 43.53125 \r\nQ 18.109375 38.875 18.109375 30.90625 \r\nL 18.109375 0 \r\nL 9.078125 0 \r\nL 9.078125 54.6875 \r\nL 18.109375 54.6875 \r\nL 18.109375 46.1875 \r\nQ 21.1875 51.21875 25.484375 53.609375 \r\nQ 29.78125 56 35.6875 56 \r\nQ 41.65625 56 45.828125 52.96875 \r\nQ 50 49.953125 52 44.1875 \r\nz\r\n\" id=\"DejaVuSans-109\"/>\r\n    </defs>\r\n    <g transform=\"translate(138.38125 16.318125)scale(0.12 -0.12)\">\r\n     <use xlink:href=\"#DejaVuSans-70\"/>\r\n     <use x=\"57.410156\" xlink:href=\"#DejaVuSans-105\"/>\r\n     <use x=\"85.193359\" xlink:href=\"#DejaVuSans-114\"/>\r\n     <use x=\"126.275391\" xlink:href=\"#DejaVuSans-101\"/>\r\n     <use x=\"187.798828\" xlink:href=\"#DejaVuSans-32\"/>\r\n     <use x=\"219.585938\" xlink:href=\"#DejaVuSans-114\"/>\r\n     <use x=\"260.699219\" xlink:href=\"#DejaVuSans-117\"/>\r\n     <use x=\"324.078125\" xlink:href=\"#DejaVuSans-110\"/>\r\n     <use x=\"387.457031\" xlink:href=\"#DejaVuSans-101\"/>\r\n     <use x=\"448.980469\" xlink:href=\"#DejaVuSans-32\"/>\r\n     <use x=\"480.767578\" xlink:href=\"#DejaVuSans-118\"/>\r\n     <use x=\"539.947266\" xlink:href=\"#DejaVuSans-97\"/>\r\n     <use x=\"601.226562\" xlink:href=\"#DejaVuSans-108\"/>\r\n     <use x=\"629.009766\" xlink:href=\"#DejaVuSans-117\"/>\r\n     <use x=\"692.388672\" xlink:href=\"#DejaVuSans-101\"/>\r\n     <use x=\"753.912109\" xlink:href=\"#DejaVuSans-32\"/>\r\n     <use x=\"785.699219\" xlink:href=\"#DejaVuSans-111\"/>\r\n     <use x=\"846.880859\" xlink:href=\"#DejaVuSans-118\"/>\r\n     <use x=\"906.060547\" xlink:href=\"#DejaVuSans-101\"/>\r\n     <use x=\"967.583984\" xlink:href=\"#DejaVuSans-114\"/>\r\n     <use x=\"1008.697266\" xlink:href=\"#DejaVuSans-32\"/>\r\n     <use x=\"1040.484375\" xlink:href=\"#DejaVuSans-116\"/>\r\n     <use x=\"1079.693359\" xlink:href=\"#DejaVuSans-105\"/>\r\n     <use x=\"1107.476562\" xlink:href=\"#DejaVuSans-109\"/>\r\n     <use x=\"1204.888672\" xlink:href=\"#DejaVuSans-101\"/>\r\n    </g>\r\n   </g>\r\n  </g>\r\n </g>\r\n <defs>\r\n  <clipPath id=\"pb670d804f7\">\r\n   <rect height=\"217.44\" width=\"334.8\" x=\"46.965625\" y=\"22.318125\"/>\r\n  </clipPath>\r\n </defs>\r\n</svg>\r\n",
      "image/png": "[encoded data removed]"
     },
     "metadata": {
      "needs_background": "light"
     }
    }
   ],
   "source": [
    "plt.plot(daily_graph_df['Date'], daily_graph_df['price'])\n",
    "plt.title(f'{name} value over time')\n",
    "plt.ylabel('GP')\n",
    "axes = plt.gca()\n",
    "axes.yaxis.grid()\n",
    "plt.tick_params(\n",
    "    axis='x',          # changes apply to the x-axis\n",
    "    which='both',      # both major and minor ticks are affected\n",
    "    bottom=False,      # ticks along the bottom edge are off\n",
    "    top=False,         # ticks along the top edge are off\n",
    "    labelbottom=False) # labels along the bottom edge are off\n",
    "plt.show\n",
    "plt.savefig('img/valueovertime.png')"
   ]
  },
  {
   "cell_type": "code",
   "execution_count": null,
   "metadata": {},
   "outputs": [],
   "source": []
  }
 ]
}